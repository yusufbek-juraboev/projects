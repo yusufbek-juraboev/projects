{
 "cells": [
  {
   "cell_type": "code",
   "execution_count": 1,
   "metadata": {},
   "outputs": [],
   "source": [
    "from requests_html import HTMLSession, HTML\n",
    "session = HTMLSession()\n",
    "\n",
    "r = session.get('https://www.best-poems.net/')"
   ]
  },
  {
   "cell_type": "code",
   "execution_count": null,
   "metadata": {},
   "outputs": [],
   "source": [
    "categories = list(r.html.xpath('/html/body/div/div[2]/div[2]/div')[0].absolute_links)\n",
    "with open(\"poems.txt\", \"a\",encoding=\"utf-8\") as file1:\n",
    "    for cat in categories:\n",
    "        r2 = session.get(cat)\n",
    "        poets = list(r2.html.find('.taxonomy-vtn-terms', first=True).absolute_links)\n",
    "        for poet in poets:\n",
    "            r3 = session.get(poet)\n",
    "            poems = list(r3.html.find('.menu', first=True).absolute_links)\n",
    "            for poem in poems:\n",
    "                r4 = session.get(poem)\n",
    "                title = r4.html.find('.pageTitle', first=True).text\n",
    "                content = r4.html.find('#content', first=True).text\n",
    "                file1.write(title+'\\n')\n",
    "                file1.write(content+'\\n')"
   ]
  },
  {
   "cell_type": "code",
   "execution_count": null,
   "metadata": {},
   "outputs": [],
   "source": []
  },
  {
   "cell_type": "code",
   "execution_count": null,
   "metadata": {},
   "outputs": [],
   "source": []
  }
 ],
 "metadata": {
  "kernelspec": {
   "display_name": "Python 3",
   "language": "python",
   "name": "python3"
  },
  "language_info": {
   "codemirror_mode": {
    "name": "ipython",
    "version": 3
   },
   "file_extension": ".py",
   "mimetype": "text/x-python",
   "name": "python",
   "nbconvert_exporter": "python",
   "pygments_lexer": "ipython3",
   "version": "3.8.3"
  }
 },
 "nbformat": 4,
 "nbformat_minor": 4
}
